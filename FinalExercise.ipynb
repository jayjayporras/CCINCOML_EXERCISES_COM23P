{
  "nbformat": 4,
  "nbformat_minor": 0,
  "metadata": {
    "colab": {
      "provenance": [],
      "include_colab_link": true
    },
    "kernelspec": {
      "name": "python3",
      "display_name": "Python 3"
    },
    "language_info": {
      "name": "python"
    }
  },
  "cells": [
    {
      "cell_type": "markdown",
      "metadata": {
        "id": "view-in-github",
        "colab_type": "text"
      },
      "source": [
        "<a href=\"https://colab.research.google.com/github/jayjayporras/CCINCOML_EXERCISES_COM23P/blob/main/FinalExercise.ipynb\" target=\"_parent\"><img src=\"https://colab.research.google.com/assets/colab-badge.svg\" alt=\"Open In Colab\"/></a>"
      ]
    },
    {
      "cell_type": "markdown",
      "source": [
        "# Final Exercise 🌹\n",
        "\n",
        "Please follow the instructions!\n",
        "\n",
        "<img src=\"https://i.pinimg.com/originals/80/db/e7/80dbe7a37ca3ea65ecac8dace1b599cc.gif\"/>"
      ],
      "metadata": {
        "id": "1lyup4WJ0U88"
      }
    },
    {
      "cell_type": "markdown",
      "source": [
        "1. Create a list called `myname` that contains the characters of your first name"
      ],
      "metadata": {
        "id": "TNpD9hmk4_N-"
      }
    },
    {
      "cell_type": "code",
      "source": [
        "# put your answer here\n",
        "myname = list(\"john joseph\")\n",
        "print(myname)"
      ],
      "metadata": {
        "id": "bpXg-iQt4-sQ",
        "colab": {
          "base_uri": "https://localhost:8080/"
        },
        "outputId": "25732148-dbc2-4082-de01-41bd93003a2c"
      },
      "execution_count": 7,
      "outputs": [
        {
          "output_type": "stream",
          "name": "stdout",
          "text": [
            "['j', 'o', 'h', 'n', ' ', 'j', 'o', 's', 'e', 'p', 'h']\n"
          ]
        }
      ]
    },
    {
      "cell_type": "markdown",
      "source": [
        "2. Create a list called `mynumber` that contains all the numbers of your student number"
      ],
      "metadata": {
        "id": "iorlqXkq5FgY"
      }
    },
    {
      "cell_type": "code",
      "source": [
        "# put your answer here\n",
        "mynumber = [1,0,4,6,9,8]"
      ],
      "metadata": {
        "id": "JciPeaYr49B7"
      },
      "execution_count": 8,
      "outputs": []
    },
    {
      "cell_type": "markdown",
      "source": [
        "3. Write a python function named `geteven()` that will:\n",
        "\n",
        "- Accept a list of your student number\n",
        "- Return a list with only even numbers\n",
        "\n",
        "-------------------------------------\n",
        "\n",
        "Example:\n",
        "\n",
        "mynumber = [2,0,2,3,1,2,3,4,5,6]\n",
        "\n",
        "geteven(mynumber)\n",
        "\n",
        "Output should be:\n",
        "\n",
        "[2,0,2,2,4,6]"
      ],
      "metadata": {
        "id": "yQ2wZKD-0X7_"
      }
    },
    {
      "cell_type": "code",
      "execution_count": 9,
      "metadata": {
        "id": "9HUAAC9h0Tu6",
        "colab": {
          "base_uri": "https://localhost:8080/"
        },
        "outputId": "9215cba0-64d6-41fa-97aa-d59c9208917a"
      },
      "outputs": [
        {
          "output_type": "stream",
          "name": "stdout",
          "text": [
            "[0, 4, 6, 8]\n"
          ]
        }
      ],
      "source": [
        "# put your answer here\n",
        "def geteven(numbers):\n",
        "    return [num for num in numbers if num % 2 == 0]\n",
        "\n",
        "mynumber = [1, 0, 4, 6, 9, 8]\n",
        "result = geteven(mynumber)\n",
        "print(result)"
      ]
    },
    {
      "cell_type": "markdown",
      "source": [
        "4. Write a python function named `reverseName()` that will:\n",
        "\n",
        "- Accept a list of your name\n",
        "- Return a list of your name in reverse order\n",
        "\n",
        "-------------------------------------\n",
        "\n",
        "Example:\n",
        "\n",
        "myname = ['E', 'L', 'I', 'Z', 'E', 'R']\n",
        "\n",
        "reverseName(myname)\n",
        "\n",
        "Output should be:\n",
        "\n",
        "['R', 'E', 'Z', 'I', 'L', 'E']"
      ],
      "metadata": {
        "id": "51HBYD8V0agR"
      }
    },
    {
      "cell_type": "code",
      "source": [
        "# put your answer here\n",
        "def reverseName(name):\n",
        "    name_list = list(name)\n",
        "    return name_list[::-1]\n",
        "\n",
        "myname = \"John Joseph\"\n",
        "reversed_name = reverseName(myname)\n",
        "print(reversed_name)"
      ],
      "metadata": {
        "id": "cwtaNJcc0a1o",
        "colab": {
          "base_uri": "https://localhost:8080/"
        },
        "outputId": "927fe489-f165-43e8-9c81-6b9d63396640"
      },
      "execution_count": 10,
      "outputs": [
        {
          "output_type": "stream",
          "name": "stdout",
          "text": [
            "['h', 'p', 'e', 's', 'o', 'J', ' ', 'n', 'h', 'o', 'J']\n"
          ]
        }
      ]
    },
    {
      "cell_type": "markdown",
      "source": [
        "5. Write a python function named `countVowel()` that will:\n",
        "\n",
        "- Accept a list of your name\n",
        "- Return the number of vowels of your name in the list\n",
        "\n",
        "-------------------------------------\n",
        "\n",
        "Example:\n",
        "\n",
        "myname = ['E', 'L', 'I', 'Z', 'E', 'R']\n",
        "\n",
        "countVowel(myname)\n",
        "\n",
        "Output should be:\n",
        "\n",
        "3"
      ],
      "metadata": {
        "id": "z98DkSZj0bKE"
      }
    },
    {
      "cell_type": "code",
      "source": [
        "# put your answer here\n",
        "def countVowel(name):\n",
        "    vowels = ['a', 'e', 'i', 'o', 'u', 'A', 'E', 'I', 'O', 'U']\n",
        "    count = 0\n",
        "    for letter in name:\n",
        "        if letter in vowels:\n",
        "            count += 1\n",
        "    return count\n",
        "\n",
        "myname = \"John Joseph\"\n",
        "vowel_count = countVowel(myname)\n",
        "print(vowel_count)"
      ],
      "metadata": {
        "id": "djNZGq0P0bft",
        "colab": {
          "base_uri": "https://localhost:8080/"
        },
        "outputId": "90fe6ff3-434d-408e-9dfd-68a110515367"
      },
      "execution_count": 11,
      "outputs": [
        {
          "output_type": "stream",
          "name": "stdout",
          "text": [
            "3\n"
          ]
        }
      ]
    },
    {
      "cell_type": "markdown",
      "source": [
        "## Farewell note\n",
        "\n",
        "It has been a pleasure to teach you this term even for a short period of time.\n",
        "\n",
        "I know that not all people like computer programming but please give it more time for you to find a place in your heart ❤️\n",
        "\n",
        "From my experience, people tend to learn skills when they need it and not when they want to. It is very hard to learn any skill if you do not have any use for it.\n",
        "\n",
        "The challenge for us educators is to show the next generation that programming is a very important skill and that the world needs people like you.\n",
        "\n",
        "Programming is a very fulfilling profession because you can solve the world's problems through your own creativity and passion.\n",
        "\n",
        "I hope that you can find your own purpose in life through programming and make our world a better place 🌎\n",
        "\n",
        "Your teacher,\n",
        "\n",
        "Elizer Ponio Jr."
      ],
      "metadata": {
        "id": "7YuM6TiO8Tsj"
      }
    }
  ]
}